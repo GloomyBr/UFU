{
 "metadata": {
  "language_info": {
   "codemirror_mode": {
    "name": "ipython",
    "version": 3
   },
   "file_extension": ".py",
   "mimetype": "text/x-python",
   "name": "python",
   "nbconvert_exporter": "python",
   "pygments_lexer": "ipython3",
   "version": "3.6.8-final"
  },
  "orig_nbformat": 2,
  "kernelspec": {
   "name": "python_defaultSpec_1597947372827",
   "display_name": "Python 3.6.8 64-bit"
  }
 },
 "nbformat": 4,
 "nbformat_minor": 2,
 "cells": [
  {
   "cell_type": "markdown",
   "metadata": {},
   "source": [
    "# Prática - 03"
   ]
  },
  {
   "cell_type": "code",
   "execution_count": 9,
   "metadata": {
    "tags": []
   },
   "outputs": [
    {
     "output_type": "stream",
     "name": "stdout",
     "text": "Collecting sklearn\n  Downloading sklearn-0.0.tar.gz (1.1 kB)\nCollecting scikit-learn\n  Downloading scikit_learn-0.23.2-cp36-cp36m-win_amd64.whl (6.8 MB)\nRequirement already satisfied: scipy>=0.19.1 in c:\\users\\gloom\\appdata\\local\\programs\\python\\python36\\lib\\site-packages (from scikit-learn->sklearn) (1.1.0)\nCollecting threadpoolctl>=2.0.0\n  Downloading threadpoolctl-2.1.0-py3-none-any.whl (12 kB)\nRequirement already satisfied: numpy>=1.13.3 in c:\\users\\gloom\\appdata\\local\\programs\\python\\python36\\lib\\site-packages (from scikit-learn->sklearn) (1.18.1)\nCollecting joblib>=0.11\n  Downloading joblib-0.16.0-py3-none-any.whl (300 kB)\nUsing legacy 'setup.py install' for sklearn, since package 'wheel' is not installed.\nInstalling collected packages: threadpoolctl, joblib, scikit-learn, sklearn\n    Running setup.py install for sklearn: started\n    Running setup.py install for sklearn: finished with status 'done'\nSuccessfully installed joblib-0.16.0 scikit-learn-0.23.2 sklearn-0.0 threadpoolctl-2.1.0\n"
    }
   ],
   "source": [
    "!pip install sklearn\n"
   ]
  },
  {
   "cell_type": "code",
   "execution_count": 15,
   "metadata": {
    "tags": []
   },
   "outputs": [
    {
     "output_type": "execute_result",
     "data": {
      "text/plain": "array([[1, 0, 0, 0, 0, 0],\n       [0, 0, 0, 0, 0, 1],\n       [0, 0, 1, 0, 0, 0],\n       [0, 1, 0, 0, 0, 0],\n       [0, 0, 0, 0, 1, 0],\n       [0, 0, 0, 1, 0, 0]])"
     },
     "metadata": {},
     "execution_count": 15
    }
   ],
   "source": [
    "from sklearn.preprocessing import LabelBinarizer\n",
    "y = ['amarelo', 'vermelho', 'branco', 'azul', 'verde','laranja']\n",
    "y =  LabelBinarizer().fit_transform(y)\n",
    "y"
   ]
  },
  {
   "cell_type": "code",
   "execution_count": null,
   "metadata": {},
   "outputs": [],
   "source": []
  },
  {
   "cell_type": "code",
   "execution_count": null,
   "metadata": {},
   "outputs": [],
   "source": []
  }
 ]
}